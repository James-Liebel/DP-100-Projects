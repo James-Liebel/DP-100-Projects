{
 "cells": [
  {
   "cell_type": "markdown",
   "id": "751ab45e",
   "metadata": {},
   "source": [
    "# Clustering - Introduction\n",
    "\n",
    "In contrast to *supervised* machine learning, *unsupervised* learning is used when there is no \"ground truth\" from which to train and validate label predictions. The most common form of unsupervised learning is *clustering*, which is similar conceptually to *classification*, except that the training data does not include known values for the class label to be predicted. Clustering works by separating the training cases based on similarities that can be determined from their feature values. The numeric features of a given entity can be thought of as vector coordinates that define the entity's position in n-dimensional space. What a clustering model seeks to do is to identify groups, or *clusters*, of entities that are close to one another while being separated from other clusters.\n",
    "\n",
    "For example, let's take a look at a dataset that contains measurements of different species of wheat seed.\n",
    "\n",
    "## Load the data\n",
    "\n",
    "1. Download [seeds.csv](https://raw.githubusercontent.com/MicrosoftLearning/mslearn-ml-basics/refs/heads/main/Labfiles/data/seeds.csv){:target=\"_blank\"} in a new browser tab, and save it on your local disk.\n",
    "2. Then use the **Upload Data** button at the top of this notebook to upload it.\n",
    "3. Run the next cell by clicking the **▶️ Run** button to load the data.\n",
    "\n",
    "> **Citation**: The seeds dataset used in this exercise was originally published by the Institute of Agrophysics of the Polish Academy of Sciences in Lublin by Dua, D. and Graff, C. (2019). and can be downloaded from the [UCI Machine Learning Repository](http://archive.ics.uci.edu/ml), University of California at Irvine, School of Information and Computer Science.\n"
   ]
  },
  {
   "cell_type": "markdown",
   "id": "578f2f5b",
   "metadata": {},
   "source": [
    "## GitHub\n",
    "\n",
    "Set your GitHub URL in the next cell to enable a quick link and open-in-browser button.\n",
    "\n",
    "Example: https://github.com/USERNAME/REPO (or your profile URL)\n"
   ]
  },
  {
   "cell_type": "code",
   "execution_count": 1,
   "id": "c32b7324",
   "metadata": {},
   "outputs": [
    {
     "data": {
      "text/markdown": [
       "[Open on GitHub](https://github.com/USERNAME/REPO)"
      ],
      "text/plain": [
       "<IPython.core.display.Markdown object>"
      ]
     },
     "metadata": {},
     "output_type": "display_data"
    },
    {
     "data": {
      "text/html": [
       "\n",
       "<button id=\"open_github\" style=\"padding:8px 12px; background:#24292e; color:white; border:none; border-radius:6px; cursor:pointer;\">\n",
       "  Open GitHub\n",
       "</button>\n",
       "<script>\n",
       "const btn = document.getElementById('open_github');\n",
       "if (btn) {\n",
       "  btn.onclick = () => window.open('https://github.com/USERNAME/REPO', '_blank');\n",
       "}\n",
       "</script>\n"
      ],
      "text/plain": [
       "<IPython.core.display.HTML object>"
      ]
     },
     "metadata": {},
     "output_type": "display_data"
    }
   ],
   "source": [
    "# Set your GitHub URL here (repo or profile)\n",
    "GITHUB_URL = \"https://github.com/USERNAME/REPO\"  # <- change this once\n",
    "\n",
    "from IPython.display import Markdown, HTML\n",
    "\n",
    "# Render a clickable link\n",
    "if GITHUB_URL:\n",
    "    display(Markdown(f\"[Open on GitHub]({GITHUB_URL})\"))\n",
    "\n",
    "# Provide a button to open in a new browser tab/window (escape braces in f-string)\n",
    "button_html = f'''\n",
    "<button id=\"open_github\" style=\"padding:8px 12px; background:#24292e; color:white; border:none; border-radius:6px; cursor:pointer;\">\n",
    "  Open GitHub\n",
    "</button>\n",
    "<script>\n",
    "const btn = document.getElementById('open_github');\n",
    "if (btn) {{\n",
    "  btn.onclick = () => window.open('{GITHUB_URL}', '_blank');\n",
    "}}\n",
    "</script>\n",
    "'''\n",
    "\n",
    "display(HTML(button_html))\n"
   ]
  },
  {
   "cell_type": "code",
   "execution_count": null,
   "id": "bdc67462",
   "metadata": {},
   "outputs": [],
   "source": [
    "import pandas as pd\n",
    "\n",
    "# load the training dataset\n",
    "data = pd.read_csv('seeds.csv')\n",
    "\n",
    "# Display a random sample of 10 observations (just the features)\n",
    "features = data[data.columns[0:6]]\n",
    "print(features.sample(10))\n"
   ]
  },
  {
   "cell_type": "markdown",
   "id": "fdda8d26",
   "metadata": {},
   "source": [
    "As you can see, the dataset contains six data points (or *features*) for each instance (*observation*) of a seed. So you could interpret these as coordinates that describe each instance's location in six-dimensional space.\n",
    "\n",
    "Six-dimensional space is difficult to visualize in a three-dimensional world, or on a two-dimensional plot. We'll take advantage of a mathematical technique called *Principal Component Analysis* (PCA) to analyze the relationships between the features and summarize each observation as coordinates for two principal components - in other words, we'll translate the six-dimensional feature values into two-dimensional coordinates.\n"
   ]
  },
  {
   "cell_type": "code",
   "execution_count": null,
   "id": "5dd1c532",
   "metadata": {},
   "outputs": [],
   "source": [
    "from sklearn.preprocessing import MinMaxScaler\n",
    "from sklearn.decomposition import PCA\n",
    "\n",
    "# Normalize the numeric features so they're on the same scale\n",
    "scaled_features = MinMaxScaler().fit_transform(features[data.columns[0:6]])\n",
    "\n",
    "# Get two principal components\n",
    "pca = PCA(n_components=2).fit(scaled_features)\n",
    "features_2d = pca.transform(scaled_features)\n",
    "print(features_2d[0:10])\n"
   ]
  },
  {
   "cell_type": "markdown",
   "id": "e75595a8",
   "metadata": {},
   "source": [
    "Now that we have the data points translated to two dimensions, we can visualize them in a plot.\n"
   ]
  },
  {
   "cell_type": "code",
   "execution_count": null,
   "id": "7dff3f19",
   "metadata": {},
   "outputs": [],
   "source": [
    "import matplotlib.pyplot as plt\n",
    "\n",
    "plt.scatter(features_2d[:,0], features_2d[:,1])\n",
    "plt.xlabel('Dimension 1')\n",
    "plt.ylabel('Dimension 2')\n",
    "plt.title('Data')\n",
    "plt.show()\n"
   ]
  },
  {
   "cell_type": "markdown",
   "id": "11ff4327",
   "metadata": {},
   "source": [
    "Hopefully you can see at least two, arguably three, reasonably distinct groups of data points. This shows one of the fundamental problems with clustering - without known class labels, how do you know how many clusters to separate your data into?\n",
    "\n",
    "One way we can try to find out is to use a data sample to create a series of clustering models with an incrementing number of clusters, and measure how tightly the data points are grouped within each cluster. A metric often used to measure this tightness is the *within cluster sum of squares* (WCSS), with lower values meaning that the data points are closer. You can then plot the WCSS for each model.\n"
   ]
  },
  {
   "cell_type": "code",
   "execution_count": null,
   "id": "2a775875",
   "metadata": {},
   "outputs": [],
   "source": [
    "#importing the libraries\n",
    "import numpy as np\n",
    "from sklearn.cluster import KMeans\n",
    "from sklearn.metrics import silhouette_score\n",
    "\n",
    "# Create 10 models with 1 to 10 clusters\n",
    "wcss = []\n",
    "for i in range(1, 11):\n",
    "    kmeans = KMeans(n_clusters=i)\n",
    "    # Fit the data points\n",
    "    kmeans.fit(features.values)\n",
    "    # Get the WCSS (inertia) value\n",
    "    wcss.append(kmeans.inertia_)\n",
    "    \n",
    "#Plot the WCSS values onto a line graph\n",
    "plt.plot(range(1, 11), wcss)\n",
    "plt.title('WCSS by Clusters')\n",
    "plt.xlabel('Number of clusters')\n",
    "plt.ylabel('WCSS')\n",
    "plt.show()\n"
   ]
  },
  {
   "cell_type": "markdown",
   "id": "06036004",
   "metadata": {},
   "source": [
    "The plot shows a large reduction in WCSS (so greater *tightness*) as the number of clusters increases from one to two, and a further noticeable reduction from two to three clusters. After that, the reduction is less pronounced, resulting in an \"elbow\" in the chart at around three clusters. This is a good indication that there are two to three reasonably well separated clusters of data points.\n",
    "\n",
    "## Summary\n",
    "\n",
    "Here we looked at what clustering means, and how to determine whether clustering might be appropriate for your data. In the next notebook, we will look at two ways of labelling the data automatically.\n"
   ]
  }
 ],
 "metadata": {
  "kernelspec": {
   "display_name": "Python 3",
   "language": "python",
   "name": "python3"
  },
  "language_info": {
   "codemirror_mode": {
    "name": "ipython",
    "version": 3
   },
   "file_extension": ".py",
   "mimetype": "text/x-python",
   "name": "python",
   "nbconvert_exporter": "python",
   "pygments_lexer": "ipython3",
   "version": "3.12.5"
  }
 },
 "nbformat": 4,
 "nbformat_minor": 5
}
